{
 "cells": [
  {
   "cell_type": "markdown",
   "metadata": {},
   "source": [
    "# Palmer Penguins\n",
    "\n",
    "#### This notebook contains my analysis of the famous Palmer penguins dataset. \n",
    "\n",
    "#### Author Jennifer Ibanez Cano\n",
    "\n",
    "#### Student of Higher Diploma in Science in Data Analytics at the ATU Galway, 2024.\n",
    "\n",
    "#### Module Principles of Data Analytics\n",
    "\n",
    "![Penguins](https://allisonhorst.github.io/palmerpenguins/reference/figures/lter_penguins.png)\n",
    "\n",
    "The data set is available [on GitHub](https://allisonhorst.github.io/palmerpenguins/). This Data was collected and made available by [Dr. Kristen Gorman](https://www.uaf.edu/cfos/people/faculty/detail/kristen-gorman.php) and the [Palmer Station, Antarctica LTER](https://pallter.marine.rutgers.edu), a member of the [Long Term Ecological Research Network](https://lternet.edu). \n"
   ]
  },
  {
   "cell_type": "markdown",
   "metadata": {},
   "source": [
    "### Libraries\n",
    "\n",
    "***"
   ]
  },
  {
   "cell_type": "code",
   "execution_count": 1,
   "metadata": {},
   "outputs": [],
   "source": [
    "# Data frames. \n",
    "\n",
    "import pandas as pd\n",
    "\n",
    "# Numerial arrays.\n",
    "\n",
    "import numpy as np\n",
    "\n",
    "# Plotting. \n",
    "\n",
    "import matplotlib.pyplot as plt\n",
    "\n",
    "# Seaborn.\n",
    "\n",
    "import seaborn as sns\n"
   ]
  },
  {
   "cell_type": "markdown",
   "metadata": {},
   "source": [
    "### Load Data\n",
    "\n",
    "***"
   ]
  },
  {
   "cell_type": "code",
   "execution_count": 2,
   "metadata": {},
   "outputs": [],
   "source": [
    "# Load the Palmer penguins data set.\n",
    "\n",
    "df = pd.read_csv(\"https://raw.githubusercontent.com/mwaskom/seaborn-data/master/penguins.csv\")\n"
   ]
  },
  {
   "cell_type": "code",
   "execution_count": 3,
   "metadata": {},
   "outputs": [
    {
     "data": {
      "text/html": [
       "<div>\n",
       "<style scoped>\n",
       "    .dataframe tbody tr th:only-of-type {\n",
       "        vertical-align: middle;\n",
       "    }\n",
       "\n",
       "    .dataframe tbody tr th {\n",
       "        vertical-align: top;\n",
       "    }\n",
       "\n",
       "    .dataframe thead th {\n",
       "        text-align: right;\n",
       "    }\n",
       "</style>\n",
       "<table border=\"1\" class=\"dataframe\">\n",
       "  <thead>\n",
       "    <tr style=\"text-align: right;\">\n",
       "      <th></th>\n",
       "      <th>species</th>\n",
       "      <th>island</th>\n",
       "      <th>bill_length_mm</th>\n",
       "      <th>bill_depth_mm</th>\n",
       "      <th>flipper_length_mm</th>\n",
       "      <th>body_mass_g</th>\n",
       "      <th>sex</th>\n",
       "    </tr>\n",
       "  </thead>\n",
       "  <tbody>\n",
       "    <tr>\n",
       "      <th>0</th>\n",
       "      <td>Adelie</td>\n",
       "      <td>Torgersen</td>\n",
       "      <td>39.1</td>\n",
       "      <td>18.7</td>\n",
       "      <td>181.0</td>\n",
       "      <td>3750.0</td>\n",
       "      <td>MALE</td>\n",
       "    </tr>\n",
       "    <tr>\n",
       "      <th>1</th>\n",
       "      <td>Adelie</td>\n",
       "      <td>Torgersen</td>\n",
       "      <td>39.5</td>\n",
       "      <td>17.4</td>\n",
       "      <td>186.0</td>\n",
       "      <td>3800.0</td>\n",
       "      <td>FEMALE</td>\n",
       "    </tr>\n",
       "    <tr>\n",
       "      <th>2</th>\n",
       "      <td>Adelie</td>\n",
       "      <td>Torgersen</td>\n",
       "      <td>40.3</td>\n",
       "      <td>18.0</td>\n",
       "      <td>195.0</td>\n",
       "      <td>3250.0</td>\n",
       "      <td>FEMALE</td>\n",
       "    </tr>\n",
       "    <tr>\n",
       "      <th>3</th>\n",
       "      <td>Adelie</td>\n",
       "      <td>Torgersen</td>\n",
       "      <td>NaN</td>\n",
       "      <td>NaN</td>\n",
       "      <td>NaN</td>\n",
       "      <td>NaN</td>\n",
       "      <td>NaN</td>\n",
       "    </tr>\n",
       "    <tr>\n",
       "      <th>4</th>\n",
       "      <td>Adelie</td>\n",
       "      <td>Torgersen</td>\n",
       "      <td>36.7</td>\n",
       "      <td>19.3</td>\n",
       "      <td>193.0</td>\n",
       "      <td>3450.0</td>\n",
       "      <td>FEMALE</td>\n",
       "    </tr>\n",
       "    <tr>\n",
       "      <th>...</th>\n",
       "      <td>...</td>\n",
       "      <td>...</td>\n",
       "      <td>...</td>\n",
       "      <td>...</td>\n",
       "      <td>...</td>\n",
       "      <td>...</td>\n",
       "      <td>...</td>\n",
       "    </tr>\n",
       "    <tr>\n",
       "      <th>339</th>\n",
       "      <td>Gentoo</td>\n",
       "      <td>Biscoe</td>\n",
       "      <td>NaN</td>\n",
       "      <td>NaN</td>\n",
       "      <td>NaN</td>\n",
       "      <td>NaN</td>\n",
       "      <td>NaN</td>\n",
       "    </tr>\n",
       "    <tr>\n",
       "      <th>340</th>\n",
       "      <td>Gentoo</td>\n",
       "      <td>Biscoe</td>\n",
       "      <td>46.8</td>\n",
       "      <td>14.3</td>\n",
       "      <td>215.0</td>\n",
       "      <td>4850.0</td>\n",
       "      <td>FEMALE</td>\n",
       "    </tr>\n",
       "    <tr>\n",
       "      <th>341</th>\n",
       "      <td>Gentoo</td>\n",
       "      <td>Biscoe</td>\n",
       "      <td>50.4</td>\n",
       "      <td>15.7</td>\n",
       "      <td>222.0</td>\n",
       "      <td>5750.0</td>\n",
       "      <td>MALE</td>\n",
       "    </tr>\n",
       "    <tr>\n",
       "      <th>342</th>\n",
       "      <td>Gentoo</td>\n",
       "      <td>Biscoe</td>\n",
       "      <td>45.2</td>\n",
       "      <td>14.8</td>\n",
       "      <td>212.0</td>\n",
       "      <td>5200.0</td>\n",
       "      <td>FEMALE</td>\n",
       "    </tr>\n",
       "    <tr>\n",
       "      <th>343</th>\n",
       "      <td>Gentoo</td>\n",
       "      <td>Biscoe</td>\n",
       "      <td>49.9</td>\n",
       "      <td>16.1</td>\n",
       "      <td>213.0</td>\n",
       "      <td>5400.0</td>\n",
       "      <td>MALE</td>\n",
       "    </tr>\n",
       "  </tbody>\n",
       "</table>\n",
       "<p>344 rows × 7 columns</p>\n",
       "</div>"
      ],
      "text/plain": [
       "    species     island  bill_length_mm  bill_depth_mm  flipper_length_mm  \\\n",
       "0    Adelie  Torgersen            39.1           18.7              181.0   \n",
       "1    Adelie  Torgersen            39.5           17.4              186.0   \n",
       "2    Adelie  Torgersen            40.3           18.0              195.0   \n",
       "3    Adelie  Torgersen             NaN            NaN                NaN   \n",
       "4    Adelie  Torgersen            36.7           19.3              193.0   \n",
       "..      ...        ...             ...            ...                ...   \n",
       "339  Gentoo     Biscoe             NaN            NaN                NaN   \n",
       "340  Gentoo     Biscoe            46.8           14.3              215.0   \n",
       "341  Gentoo     Biscoe            50.4           15.7              222.0   \n",
       "342  Gentoo     Biscoe            45.2           14.8              212.0   \n",
       "343  Gentoo     Biscoe            49.9           16.1              213.0   \n",
       "\n",
       "     body_mass_g     sex  \n",
       "0         3750.0    MALE  \n",
       "1         3800.0  FEMALE  \n",
       "2         3250.0  FEMALE  \n",
       "3            NaN     NaN  \n",
       "4         3450.0  FEMALE  \n",
       "..           ...     ...  \n",
       "339          NaN     NaN  \n",
       "340       4850.0  FEMALE  \n",
       "341       5750.0    MALE  \n",
       "342       5200.0  FEMALE  \n",
       "343       5400.0    MALE  \n",
       "\n",
       "[344 rows x 7 columns]"
      ]
     },
     "execution_count": 3,
     "metadata": {},
     "output_type": "execute_result"
    }
   ],
   "source": [
    "# Let's have a look. \n",
    "df"
   ]
  },
  {
   "cell_type": "markdown",
   "metadata": {},
   "source": [
    "Here in the data we can see there are 344 rows and 7 columns that provide different information of the penguins like species, island, bill length, bill depth, flipper length, body mass and sex."
   ]
  },
  {
   "cell_type": "markdown",
   "metadata": {},
   "source": [
    "### Inspect Data\n",
    "\n",
    "***"
   ]
  },
  {
   "cell_type": "code",
   "execution_count": 4,
   "metadata": {},
   "outputs": [
    {
     "data": {
      "text/plain": [
       "species                 Adelie\n",
       "island               Torgersen\n",
       "bill_length_mm            39.1\n",
       "bill_depth_mm             18.7\n",
       "flipper_length_mm        181.0\n",
       "body_mass_g             3750.0\n",
       "sex                       MALE\n",
       "Name: 0, dtype: object"
      ]
     },
     "execution_count": 4,
     "metadata": {},
     "output_type": "execute_result"
    }
   ],
   "source": [
    "# Look at the first row\n",
    "df.iloc[0]\n"
   ]
  },
  {
   "cell_type": "code",
   "execution_count": 5,
   "metadata": {},
   "outputs": [
    {
     "data": {
      "text/html": [
       "<div>\n",
       "<style scoped>\n",
       "    .dataframe tbody tr th:only-of-type {\n",
       "        vertical-align: middle;\n",
       "    }\n",
       "\n",
       "    .dataframe tbody tr th {\n",
       "        vertical-align: top;\n",
       "    }\n",
       "\n",
       "    .dataframe thead th {\n",
       "        text-align: right;\n",
       "    }\n",
       "</style>\n",
       "<table border=\"1\" class=\"dataframe\">\n",
       "  <thead>\n",
       "    <tr style=\"text-align: right;\">\n",
       "      <th></th>\n",
       "      <th>bill_length_mm</th>\n",
       "      <th>bill_depth_mm</th>\n",
       "      <th>flipper_length_mm</th>\n",
       "      <th>body_mass_g</th>\n",
       "    </tr>\n",
       "  </thead>\n",
       "  <tbody>\n",
       "    <tr>\n",
       "      <th>count</th>\n",
       "      <td>342.000000</td>\n",
       "      <td>342.000000</td>\n",
       "      <td>342.000000</td>\n",
       "      <td>342.000000</td>\n",
       "    </tr>\n",
       "    <tr>\n",
       "      <th>mean</th>\n",
       "      <td>43.921930</td>\n",
       "      <td>17.151170</td>\n",
       "      <td>200.915205</td>\n",
       "      <td>4201.754386</td>\n",
       "    </tr>\n",
       "    <tr>\n",
       "      <th>std</th>\n",
       "      <td>5.459584</td>\n",
       "      <td>1.974793</td>\n",
       "      <td>14.061714</td>\n",
       "      <td>801.954536</td>\n",
       "    </tr>\n",
       "    <tr>\n",
       "      <th>min</th>\n",
       "      <td>32.100000</td>\n",
       "      <td>13.100000</td>\n",
       "      <td>172.000000</td>\n",
       "      <td>2700.000000</td>\n",
       "    </tr>\n",
       "    <tr>\n",
       "      <th>25%</th>\n",
       "      <td>39.225000</td>\n",
       "      <td>15.600000</td>\n",
       "      <td>190.000000</td>\n",
       "      <td>3550.000000</td>\n",
       "    </tr>\n",
       "    <tr>\n",
       "      <th>50%</th>\n",
       "      <td>44.450000</td>\n",
       "      <td>17.300000</td>\n",
       "      <td>197.000000</td>\n",
       "      <td>4050.000000</td>\n",
       "    </tr>\n",
       "    <tr>\n",
       "      <th>75%</th>\n",
       "      <td>48.500000</td>\n",
       "      <td>18.700000</td>\n",
       "      <td>213.000000</td>\n",
       "      <td>4750.000000</td>\n",
       "    </tr>\n",
       "    <tr>\n",
       "      <th>max</th>\n",
       "      <td>59.600000</td>\n",
       "      <td>21.500000</td>\n",
       "      <td>231.000000</td>\n",
       "      <td>6300.000000</td>\n",
       "    </tr>\n",
       "  </tbody>\n",
       "</table>\n",
       "</div>"
      ],
      "text/plain": [
       "       bill_length_mm  bill_depth_mm  flipper_length_mm  body_mass_g\n",
       "count      342.000000     342.000000         342.000000   342.000000\n",
       "mean        43.921930      17.151170         200.915205  4201.754386\n",
       "std          5.459584       1.974793          14.061714   801.954536\n",
       "min         32.100000      13.100000         172.000000  2700.000000\n",
       "25%         39.225000      15.600000         190.000000  3550.000000\n",
       "50%         44.450000      17.300000         197.000000  4050.000000\n",
       "75%         48.500000      18.700000         213.000000  4750.000000\n",
       "max         59.600000      21.500000         231.000000  6300.000000"
      ]
     },
     "execution_count": 5,
     "metadata": {},
     "output_type": "execute_result"
    }
   ],
   "source": [
    "# Describe the data set.\n",
    "\n",
    "df.describe()\n"
   ]
  },
  {
   "cell_type": "code",
   "execution_count": 6,
   "metadata": {},
   "outputs": [
    {
     "data": {
      "text/plain": [
       "species\n",
       "Adelie       152\n",
       "Gentoo       124\n",
       "Chinstrap     68\n",
       "Name: count, dtype: int64"
      ]
     },
     "execution_count": 6,
     "metadata": {},
     "output_type": "execute_result"
    }
   ],
   "source": [
    "# Check the data to see how many penguins of each species are in the Data set.\n",
    "\n",
    "df['species'].value_counts()"
   ]
  },
  {
   "cell_type": "code",
   "execution_count": 7,
   "metadata": {},
   "outputs": [
    {
     "data": {
      "text/plain": [
       "island\n",
       "Biscoe       168\n",
       "Dream        124\n",
       "Torgersen     52\n",
       "Name: count, dtype: int64"
      ]
     },
     "execution_count": 7,
     "metadata": {},
     "output_type": "execute_result"
    }
   ],
   "source": [
    "# Look at the number of penguins living in each island. \n",
    "\n",
    "df[\"island\"].value_counts()"
   ]
  },
  {
   "cell_type": "code",
   "execution_count": 8,
   "metadata": {},
   "outputs": [
    {
     "data": {
      "text/plain": [
       "species    bill_length_mm\n",
       "Adelie     41.1              7\n",
       "           37.8              5\n",
       "           39.6              5\n",
       "           39.7              4\n",
       "Gentoo     46.2              4\n",
       "                            ..\n",
       "Chinstrap  47.5              1\n",
       "           47.6              1\n",
       "           48.1              1\n",
       "           48.5              1\n",
       "Gentoo     59.6              1\n",
       "Name: count, Length: 208, dtype: int64"
      ]
     },
     "execution_count": 8,
     "metadata": {},
     "output_type": "execute_result"
    }
   ],
   "source": [
    "# Check the bill length by species.\n",
    "\n",
    "df[['species','bill_length_mm']].value_counts()"
   ]
  },
  {
   "cell_type": "code",
   "execution_count": 9,
   "metadata": {},
   "outputs": [
    {
     "data": {
      "text/plain": [
       "species    bill_depth_mm\n",
       "Gentoo     15.0             10\n",
       "Adelie     18.5              9\n",
       "Gentoo     14.5              8\n",
       "Adelie     18.9              8\n",
       "           18.6              8\n",
       "                            ..\n",
       "Gentoo     13.6              1\n",
       "Chinstrap  16.5              1\n",
       "           16.4              1\n",
       "Adelie     21.5              1\n",
       "           15.5              1\n",
       "Name: count, Length: 121, dtype: int64"
      ]
     },
     "execution_count": 9,
     "metadata": {},
     "output_type": "execute_result"
    }
   ],
   "source": [
    "# Check the bill depth by species.\n",
    "df[['species', 'bill_depth_mm']].value_counts()"
   ]
  },
  {
   "cell_type": "code",
   "execution_count": 10,
   "metadata": {},
   "outputs": [
    {
     "data": {
      "text/plain": [
       "0        MALE\n",
       "1      FEMALE\n",
       "2      FEMALE\n",
       "3         NaN\n",
       "4      FEMALE\n",
       "        ...  \n",
       "339       NaN\n",
       "340    FEMALE\n",
       "341      MALE\n",
       "342    FEMALE\n",
       "343      MALE\n",
       "Name: sex, Length: 344, dtype: object"
      ]
     },
     "execution_count": 10,
     "metadata": {},
     "output_type": "execute_result"
    }
   ],
   "source": [
    "# Check the sex of the penguins.\n",
    "\n",
    "df['sex']"
   ]
  },
  {
   "cell_type": "code",
   "execution_count": 11,
   "metadata": {},
   "outputs": [
    {
     "data": {
      "text/plain": [
       "sex\n",
       "MALE      168\n",
       "FEMALE    165\n",
       "Name: count, dtype: int64"
      ]
     },
     "execution_count": 11,
     "metadata": {},
     "output_type": "execute_result"
    }
   ],
   "source": [
    "# Count the number of penguins of each sex.\n",
    "\n",
    "df['sex'].value_counts()"
   ]
  },
  {
   "cell_type": "code",
   "execution_count": 12,
   "metadata": {},
   "outputs": [
    {
     "data": {
      "text/plain": [
       "species    bill_depth_mm  bill_length_mm  sex   \n",
       "Adelie     18.6           37.9            FEMALE    2\n",
       "Gentoo     14.5           45.1            FEMALE    2\n",
       "Adelie     17.9           35.0            FEMALE    2\n",
       "Gentoo     15.9           50.5            MALE      2\n",
       "Chinstrap  20.8           54.2            MALE      1\n",
       "                                                   ..\n",
       "Adelie     19.1           39.8            MALE      1\n",
       "                          37.6            MALE      1\n",
       "           19.0           43.2            MALE      1\n",
       "                          41.1            MALE      1\n",
       "Gentoo     17.3           50.8            MALE      1\n",
       "Name: count, Length: 329, dtype: int64"
      ]
     },
     "execution_count": 12,
     "metadata": {},
     "output_type": "execute_result"
    }
   ],
   "source": [
    "# Check the different variables of species, bill depth, bill length and sex of the penguins.  \n",
    "\n",
    "df[['species', 'bill_depth_mm', 'bill_length_mm', 'sex']].value_counts()"
   ]
  },
  {
   "cell_type": "code",
   "execution_count": 13,
   "metadata": {},
   "outputs": [
    {
     "data": {
      "text/plain": [
       "species    flipper_length_mm\n",
       "Adelie     190.0                19\n",
       "Gentoo     215.0                12\n",
       "Adelie     195.0                11\n",
       "           191.0                10\n",
       "Gentoo     210.0                10\n",
       "                                ..\n",
       "Adelie     174.0                 1\n",
       "Chinstrap  206.0                 1\n",
       "           207.0                 1\n",
       "           212.0                 1\n",
       "Gentoo     231.0                 1\n",
       "Name: count, Length: 82, dtype: int64"
      ]
     },
     "execution_count": 13,
     "metadata": {},
     "output_type": "execute_result"
    }
   ],
   "source": [
    "# Check the flipper length by species\n",
    "\n",
    "df[['species','flipper_length_mm']].value_counts()"
   ]
  },
  {
   "cell_type": "code",
   "execution_count": 14,
   "metadata": {},
   "outputs": [
    {
     "name": "stdout",
     "output_type": "stream",
     "text": [
      "     flipper_length_mm     sex\n",
      "0                181.0    MALE\n",
      "1                186.0  FEMALE\n",
      "2                195.0  FEMALE\n",
      "3                  NaN     NaN\n",
      "4                193.0  FEMALE\n",
      "..                 ...     ...\n",
      "147              184.0  FEMALE\n",
      "148              195.0  FEMALE\n",
      "149              193.0    MALE\n",
      "150              187.0  FEMALE\n",
      "151              201.0    MALE\n",
      "\n",
      "[152 rows x 2 columns]\n"
     ]
    }
   ],
   "source": [
    "# Check the flipper length of the specie Adelie\n",
    "\n",
    "Adelie_df = df.loc[df['species'] == 'Adelie', ['flipper_length_mm','sex']]\n",
    "print(Adelie_df)\n"
   ]
  },
  {
   "cell_type": "code",
   "execution_count": 15,
   "metadata": {},
   "outputs": [
    {
     "data": {
      "text/plain": [
       "sex     flipper_length_mm\n",
       "FEMALE  187.0                14\n",
       "        190.0                11\n",
       "        210.0                10\n",
       "MALE    190.0                10\n",
       "        197.0                10\n",
       "                             ..\n",
       "        182.0                 1\n",
       "FEMALE  174.0                 1\n",
       "MALE    186.0                 1\n",
       "        206.0                 1\n",
       "        231.0                 1\n",
       "Name: count, Length: 90, dtype: int64"
      ]
     },
     "execution_count": 15,
     "metadata": {},
     "output_type": "execute_result"
    }
   ],
   "source": [
    "# Check the flipper length depending of the sex of the penguins. \n",
    "\n",
    "df[['sex','flipper_length_mm']].value_counts()"
   ]
  },
  {
   "cell_type": "code",
   "execution_count": 16,
   "metadata": {},
   "outputs": [
    {
     "data": {
      "text/plain": [
       "species    sex     body_mass_g\n",
       "Adelie     MALE    3900.0         7\n",
       "           FEMALE  3450.0         6\n",
       "Gentoo     MALE    5550.0         6\n",
       "                   5400.0         5\n",
       "                   5500.0         5\n",
       "                                 ..\n",
       "Chinstrap  FEMALE  3200.0         1\n",
       "                   2900.0         1\n",
       "                   2700.0         1\n",
       "Adelie     MALE    4775.0         1\n",
       "Gentoo     MALE    6300.0         1\n",
       "Name: count, Length: 164, dtype: int64"
      ]
     },
     "execution_count": 16,
     "metadata": {},
     "output_type": "execute_result"
    }
   ],
   "source": [
    "# Look at the body mass per species and sex\n",
    "\n",
    "df[['species', 'sex','body_mass_g']].value_counts()"
   ]
  },
  {
   "cell_type": "markdown",
   "metadata": {},
   "source": [
    "## Types of variables plot and histogram\n",
    "\n",
    "Below we can see the data applied in plots and histogram of different variables.\n",
    "\n",
    "***"
   ]
  },
  {
   "cell_type": "code",
   "execution_count": 17,
   "metadata": {},
   "outputs": [
    {
     "data": {
      "text/plain": [
       "0      Torgersen\n",
       "1      Torgersen\n",
       "2      Torgersen\n",
       "3      Torgersen\n",
       "4      Torgersen\n",
       "         ...    \n",
       "339       Biscoe\n",
       "340       Biscoe\n",
       "341       Biscoe\n",
       "342       Biscoe\n",
       "343       Biscoe\n",
       "Name: island, Length: 344, dtype: object"
      ]
     },
     "execution_count": 17,
     "metadata": {},
     "output_type": "execute_result"
    }
   ],
   "source": [
    "# The first variable I chose is the island, \n",
    "# We can see below the different islands of the Data set.\n",
    "\n",
    "df[\"island\"]"
   ]
  },
  {
   "cell_type": "code",
   "execution_count": 18,
   "metadata": {},
   "outputs": [
    {
     "data": {
      "text/plain": [
       "island\n",
       "Biscoe       168\n",
       "Dream        124\n",
       "Torgersen     52\n",
       "Name: count, dtype: int64"
      ]
     },
     "execution_count": 18,
     "metadata": {},
     "output_type": "execute_result"
    }
   ],
   "source": [
    "# Check the number of penguins living in each island. \n",
    "\n",
    "df[\"island\"].value_counts()"
   ]
  },
  {
   "cell_type": "code",
   "execution_count": 19,
   "metadata": {},
   "outputs": [
    {
     "data": {
      "text/plain": [
       "island     species  \n",
       "Biscoe     Gentoo       124\n",
       "Dream      Chinstrap     68\n",
       "           Adelie        56\n",
       "Torgersen  Adelie        52\n",
       "Biscoe     Adelie        44\n",
       "Name: count, dtype: int64"
      ]
     },
     "execution_count": 19,
     "metadata": {},
     "output_type": "execute_result"
    }
   ],
   "source": [
    "# Number of penguins of each species living in each island.\n",
    "\n",
    "df[[\"island\", 'species']].value_counts()\n"
   ]
  },
  {
   "cell_type": "code",
   "execution_count": 20,
   "metadata": {},
   "outputs": [
    {
     "data": {
      "image/png": "[encoded data removed]",
      "text/plain": [
       "<Figure size 640x480 with 1 Axes>"
      ]
     },
     "metadata": {},
     "output_type": "display_data"
    }
   ],
   "source": [
    "# I create a bar chart to show the number of penguins living in each island.\n",
    "\n",
    "location = df[\"island\"].value_counts()\n",
    "\n",
    "island = [\"Biscoe\", \"Dream\", \"Torgersen\"]\n",
    "plt.bar(island, location, color =[\"orange\",\"pink\", \"green\"])\n",
    "plt.title(\"Location of the Penguins\") \n",
    "plt.xlabel(\"island\")\n",
    "plt.ylabel(\"count\")\n",
    "plt.tight_layout()\n",
    "plt.show() "
   ]
  },
  {
   "cell_type": "code",
   "execution_count": 21,
   "metadata": {},
   "outputs": [
    {
     "data": {
      "text/plain": [
       "sex\n",
       "MALE      168\n",
       "FEMALE    165\n",
       "Name: count, dtype: int64"
      ]
     },
     "execution_count": 21,
     "metadata": {},
     "output_type": "execute_result"
    }
   ],
   "source": [
    "# The second variable that I choosed is the sex of the penguins.\n",
    "# Count the numer of penguins of each sex.\n",
    "\n",
    "df['sex'].value_counts()"
   ]
  },
  {
   "cell_type": "code",
   "execution_count": 22,
   "metadata": {},
   "outputs": [
    {
     "data": {
      "text/plain": [
       "island     sex   \n",
       "Biscoe     MALE      83\n",
       "           FEMALE    80\n",
       "Dream      MALE      62\n",
       "           FEMALE    61\n",
       "Torgersen  FEMALE    24\n",
       "           MALE      23\n",
       "Name: count, dtype: int64"
      ]
     },
     "execution_count": 22,
     "metadata": {},
     "output_type": "execute_result"
    }
   ],
   "source": [
    "# Check the number of females and males penguins in each island. \n",
    "\n",
    "df[['island', 'sex']].value_counts()"
   ]
  },
  {
   "cell_type": "code",
   "execution_count": 23,
   "metadata": {},
   "outputs": [
    {
     "data": {
      "image/png": "[encoded data removed]",
      "text/plain": [
       "<Figure size 640x480 with 1 Axes>"
      ]
     },
     "metadata": {},
     "output_type": "display_data"
    }
   ],
   "source": [
    "# Create a bar chart (with two varibles) with the number of females and males penguins in each island.\n",
    "\n",
    "island = (\"Biscoe\", \"Dream\", \"Torgersen\")\n",
    "penguin_sex = {\n",
    "    'Male': (83, 62, 23),\n",
    "    'Female': (80, 61, 24)\n",
    "}\n",
    "\n",
    "# The label locations\n",
    "x = np.arange(len(island)) \n",
    "# The width of the bars \n",
    "width = 0.35  \n",
    "multiplier = 0\n",
    "\n",
    "# To add the 2 sexs (Female and Male) in each island I created multiple subplots using plt.subplots\n",
    "\n",
    "fig, ax = plt.subplots(layout='constrained') \n",
    "\n",
    "for attribute, measurement in penguin_sex.items():\n",
    "    offset = width * multiplier\n",
    "    rects = ax.bar(x + offset, measurement, width, label=attribute)\n",
    "    ax.bar_label(rects, padding=3)\n",
    "    multiplier += 1\n",
    "    \n",
    "# Add some text for labels, title and custom x-axis tick labels, etc.\n",
    "\n",
    "ax.set_ylabel('Number of penguins')\n",
    "ax.set_title('Penguins in each island')\n",
    "ax.set_xticks(x + width, island)\n",
    "ax.legend(loc='upper left', ncols=2)\n",
    "ax.set_ylim(0, 100)\n",
    "\n",
    "plt.show()\n"
   ]
  },
  {
   "cell_type": "code",
   "execution_count": 24,
   "metadata": {},
   "outputs": [
    {
     "name": "stdout",
     "output_type": "stream",
     "text": [
      "0      3750.0\n",
      "1      3800.0\n",
      "2      3250.0\n",
      "3         NaN\n",
      "4      3450.0\n",
      "        ...  \n",
      "339       NaN\n",
      "340    4850.0\n",
      "341    5750.0\n",
      "342    5200.0\n",
      "343    5400.0\n",
      "Name: body_mass_g, Length: 344, dtype: float64\n"
     ]
    },
    {
     "data": {
      "image/png": "[encoded data removed]",
      "text/plain": [
       "<Figure size 640x480 with 1 Axes>"
      ]
     },
     "metadata": {},
     "output_type": "display_data"
    }
   ],
   "source": [
    "# Create a histogram plot for body mass of the penguins.\n",
    "\n",
    "# The variable x is body mass. \n",
    "bm = df['body_mass_g']\n",
    "\n",
    "# Show the data related with the body mass of the penguins.\n",
    "print(bm)\n",
    "\n",
    "#'body_mass_g' is the variable  to plot\n",
    "bm = df['body_mass_g']\n",
    "\n",
    "# Plotting the histogram\n",
    "plt.hist(bm, bins=10, color='orange', edgecolor='black')\n",
    "plt.xlabel('body mass')\n",
    "plt.ylabel('')\n",
    "plt.title('Histogram of Penguin Body Mass')\n",
    "plt.show()"
   ]
  },
  {
   "cell_type": "markdown",
   "metadata": {},
   "source": [
    "## Add a Best Fit Line\n",
    "\n",
    "***\n",
    "\n",
    "$ y = mx + c = p_1 x^1 + p_0 = p_1 x + p_0$\n",
    "\n",
    "\n",
    "I create a Best fit Line following the example made in the module using the [iris_data_set](https://github.com/Jennyicano/my-work-PDS/blob/main/iris_data_set.ipynb). "
   ]
  },
  {
   "cell_type": "code",
   "execution_count": 25,
   "metadata": {},
   "outputs": [
    {
     "name": "stdout",
     "output_type": "stream",
     "text": [
      "<class 'pandas.core.series.Series'>\n"
     ]
    },
    {
     "data": {
      "text/plain": [
       "array([3750., 3800., 3250.,   nan, 3450., 3650., 3625., 4675., 3475.,\n",
       "       4250., 3300., 3700., 3200., 3800., 4400., 3700., 3450., 4500.,\n",
       "       3325., 4200., 3400., 3600., 3800., 3950., 3800., 3800., 3550.,\n",
       "       3200., 3150., 3950., 3250., 3900., 3300., 3900., 3325., 4150.,\n",
       "       3950., 3550., 3300., 4650., 3150., 3900., 3100., 4400., 3000.,\n",
       "       4600., 3425., 2975., 3450., 4150., 3500., 4300., 3450., 4050.,\n",
       "       2900., 3700., 3550., 3800., 2850., 3750., 3150., 4400., 3600.,\n",
       "       4050., 2850., 3950., 3350., 4100., 3050., 4450., 3600., 3900.,\n",
       "       3550., 4150., 3700., 4250., 3700., 3900., 3550., 4000., 3200.,\n",
       "       4700., 3800., 4200., 3350., 3550., 3800., 3500., 3950., 3600.,\n",
       "       3550., 4300., 3400., 4450., 3300., 4300., 3700., 4350., 2900.,\n",
       "       4100., 3725., 4725., 3075., 4250., 2925., 3550., 3750., 3900.,\n",
       "       3175., 4775., 3825., 4600., 3200., 4275., 3900., 4075., 2900.,\n",
       "       3775., 3350., 3325., 3150., 3500., 3450., 3875., 3050., 4000.,\n",
       "       3275., 4300., 3050., 4000., 3325., 3500., 3500., 4475., 3425.,\n",
       "       3900., 3175., 3975., 3400., 4250., 3400., 3475., 3050., 3725.,\n",
       "       3000., 3650., 4250., 3475., 3450., 3750., 3700., 4000., 3500.,\n",
       "       3900., 3650., 3525., 3725., 3950., 3250., 3750., 4150., 3700.,\n",
       "       3800., 3775., 3700., 4050., 3575., 4050., 3300., 3700., 3450.,\n",
       "       4400., 3600., 3400., 2900., 3800., 3300., 4150., 3400., 3800.,\n",
       "       3700., 4550., 3200., 4300., 3350., 4100., 3600., 3900., 3850.,\n",
       "       4800., 2700., 4500., 3950., 3650., 3550., 3500., 3675., 4450.,\n",
       "       3400., 4300., 3250., 3675., 3325., 3950., 3600., 4050., 3350.,\n",
       "       3450., 3250., 4050., 3800., 3525., 3950., 3650., 3650., 4000.,\n",
       "       3400., 3775., 4100., 3775., 4500., 5700., 4450., 5700., 5400.,\n",
       "       4550., 4800., 5200., 4400., 5150., 4650., 5550., 4650., 5850.,\n",
       "       4200., 5850., 4150., 6300., 4800., 5350., 5700., 5000., 4400.,\n",
       "       5050., 5000., 5100., 4100., 5650., 4600., 5550., 5250., 4700.,\n",
       "       5050., 6050., 5150., 5400., 4950., 5250., 4350., 5350., 3950.,\n",
       "       5700., 4300., 4750., 5550., 4900., 4200., 5400., 5100., 5300.,\n",
       "       4850., 5300., 4400., 5000., 4900., 5050., 4300., 5000., 4450.,\n",
       "       5550., 4200., 5300., 4400., 5650., 4700., 5700., 4650., 5800.,\n",
       "       4700., 5550., 4750., 5000., 5100., 5200., 4700., 5800., 4600.,\n",
       "       6000., 4750., 5950., 4625., 5450., 4725., 5350., 4750., 5600.,\n",
       "       4600., 5300., 4875., 5550., 4950., 5400., 4750., 5650., 4850.,\n",
       "       5200., 4925., 4875., 4625., 5250., 4850., 5600., 4975., 5500.,\n",
       "       4725., 5500., 4700., 5500., 4575., 5500., 5000., 5950., 4650.,\n",
       "       5500., 4375., 5850., 4875., 6000., 4925.,   nan, 4850., 5750.,\n",
       "       5200., 5400.])"
      ]
     },
     "execution_count": 25,
     "metadata": {},
     "output_type": "execute_result"
    }
   ],
   "source": [
    "# Body Mass as variable x\n",
    "\n",
    "bm = df['body_mass_g']\n",
    "\n",
    "print(type(bm))\n",
    "\n",
    "# Get the numpy array\n",
    "\n",
    "bm = bm.to_numpy()\n",
    "\n",
    "bm"
   ]
  },
  {
   "cell_type": "code",
   "execution_count": 26,
   "metadata": {},
   "outputs": [
    {
     "data": {
      "text/plain": [
       "array([181., 186., 195.,  nan, 193., 190., 181., 195., 193., 190., 186.,\n",
       "       180., 182., 191., 198., 185., 195., 197., 184., 194., 174., 180.,\n",
       "       189., 185., 180., 187., 183., 187., 172., 180., 178., 178., 188.,\n",
       "       184., 195., 196., 190., 180., 181., 184., 182., 195., 186., 196.,\n",
       "       185., 190., 182., 179., 190., 191., 186., 188., 190., 200., 187.,\n",
       "       191., 186., 193., 181., 194., 185., 195., 185., 192., 184., 192.,\n",
       "       195., 188., 190., 198., 190., 190., 196., 197., 190., 195., 191.,\n",
       "       184., 187., 195., 189., 196., 187., 193., 191., 194., 190., 189.,\n",
       "       189., 190., 202., 205., 185., 186., 187., 208., 190., 196., 178.,\n",
       "       192., 192., 203., 183., 190., 193., 184., 199., 190., 181., 197.,\n",
       "       198., 191., 193., 197., 191., 196., 188., 199., 189., 189., 187.,\n",
       "       198., 176., 202., 186., 199., 191., 195., 191., 210., 190., 197.,\n",
       "       193., 199., 187., 190., 191., 200., 185., 193., 193., 187., 188.,\n",
       "       190., 192., 185., 190., 184., 195., 193., 187., 201., 192., 196.,\n",
       "       193., 188., 197., 198., 178., 197., 195., 198., 193., 194., 185.,\n",
       "       201., 190., 201., 197., 181., 190., 195., 181., 191., 187., 193.,\n",
       "       195., 197., 200., 200., 191., 205., 187., 201., 187., 203., 195.,\n",
       "       199., 195., 210., 192., 205., 210., 187., 196., 196., 196., 201.,\n",
       "       190., 212., 187., 198., 199., 201., 193., 203., 187., 197., 191.,\n",
       "       203., 202., 194., 206., 189., 195., 207., 202., 193., 210., 198.,\n",
       "       211., 230., 210., 218., 215., 210., 211., 219., 209., 215., 214.,\n",
       "       216., 214., 213., 210., 217., 210., 221., 209., 222., 218., 215.,\n",
       "       213., 215., 215., 215., 216., 215., 210., 220., 222., 209., 207.,\n",
       "       230., 220., 220., 213., 219., 208., 208., 208., 225., 210., 216.,\n",
       "       222., 217., 210., 225., 213., 215., 210., 220., 210., 225., 217.,\n",
       "       220., 208., 220., 208., 224., 208., 221., 214., 231., 219., 230.,\n",
       "       214., 229., 220., 223., 216., 221., 221., 217., 216., 230., 209.,\n",
       "       220., 215., 223., 212., 221., 212., 224., 212., 228., 218., 218.,\n",
       "       212., 230., 218., 228., 212., 224., 214., 226., 216., 222., 203.,\n",
       "       225., 219., 228., 215., 228., 216., 215., 210., 219., 208., 209.,\n",
       "       216., 229., 213., 230., 217., 230., 217., 222., 214.,  nan, 215.,\n",
       "       222., 212., 213.])"
      ]
     },
     "execution_count": 26,
     "metadata": {},
     "output_type": "execute_result"
    }
   ],
   "source": [
    "# flipper length as second variable\n",
    "\n",
    "Flip_len = df['flipper_length_mm']\n",
    "\n",
    "# Get the numpy array\n",
    "\n",
    "Flip_len = Flip_len.to_numpy()\n",
    "\n",
    "Flip_len"
   ]
  },
  {
   "cell_type": "code",
   "execution_count": 27,
   "metadata": {},
   "outputs": [
    {
     "data": {
      "text/plain": [
       "(160.0, 240.0)"
      ]
     },
     "execution_count": 27,
     "metadata": {},
     "output_type": "execute_result"
    },
    {
     "data": {
      "image/png": "[encoded data removed]",
      "text/plain": [
       "<Figure size 640x480 with 1 Axes>"
      ]
     },
     "metadata": {},
     "output_type": "display_data"
    }
   ],
   "source": [
    "# Create a simple plot . \n",
    "\n",
    "plt.plot(bm, Flip_len, 'x')\n",
    "\n",
    "# Axis labels.\n",
    "plt.xlabel('Body Mass g')\n",
    "plt.ylabel('Flipper length mm')\n",
    "\n",
    "# Title.\n",
    "plt.title('Palmer Penguins Data set')\n",
    "\n",
    "# X limits.\n",
    "plt.xlim(2000, 7000)\n",
    "\n",
    "# Y limits.\n",
    "plt.ylim(160, 240)"
   ]
  },
  {
   "cell_type": "code",
   "execution_count": 28,
   "metadata": {},
   "outputs": [
    {
     "data": {
      "text/plain": [
       "(160.0, 240.0)"
      ]
     },
     "execution_count": 28,
     "metadata": {},
     "output_type": "execute_result"
    },
    {
     "data": {
      "image/png": "[encoded data removed]",
      "text/plain": [
       "<Figure size 640x480 with 1 Axes>"
      ]
     },
     "metadata": {},
     "output_type": "display_data"
    }
   ],
   "source": [
    "# Create a new figure and set of axes.\n",
    "fig, ax = plt.subplots()\n",
    "\n",
    "# fig, ax = plt.subplots(3, 2) to create 2 columns with 3 rows of plots\n",
    "\n",
    "# Simple plot.\n",
    "ax.plot(bm, Flip_len, 'x')\n",
    "\n",
    "# Axis labels.\n",
    "ax.set_xlabel('Body mass g')\n",
    "ax.set_ylabel('Flipper length mm')\n",
    "\n",
    "# Title.\n",
    "ax.set_title('Palmer penguins')\n",
    "\n",
    "# X limits.\n",
    "ax.set_xlim(2000, 7000)\n",
    "\n",
    "# Y limits.\n",
    "ax.set_ylim(160, 240)"
   ]
  },
  {
   "cell_type": "code",
   "execution_count": 29,
   "metadata": {},
   "outputs": [
    {
     "data": {
      "text/plain": [
       "(0.015275915608037304, 136.72955927266202)"
      ]
     },
     "execution_count": 29,
     "metadata": {},
     "output_type": "execute_result"
    }
   ],
   "source": [
    "# Extracting body mass and flipper length from the dataset\n",
    "\n",
    "bm = df['body_mass_g']\n",
    "Flip_len = df['flipper_length_mm']\n",
    "\n",
    "# Remove NaN values, to avoid the error 'SVD did not converge in Linear Least Squares'\n",
    "bm = bm.dropna()\n",
    "Flip_len = Flip_len.dropna()\n",
    "\n",
    "# Create a straight line between x and y.\n",
    "\n",
    "m, c = np.polyfit(bm, Flip_len, 1)\n",
    "\n",
    "# Show m and c.\n",
    "m, c"
   ]
  },
  {
   "cell_type": "code",
   "execution_count": 32,
   "metadata": {},
   "outputs": [
    {
     "data": {
      "text/plain": [
       "(160.0, 240.0)"
      ]
     },
     "execution_count": 32,
     "metadata": {},
     "output_type": "execute_result"
    },
    {
     "data": {
      "image/png": "[encoded data removed]",
      "text/plain": [
       "<Figure size 640x480 with 1 Axes>"
      ]
     },
     "metadata": {},
     "output_type": "display_data"
    }
   ],
   "source": [
    "# Create a new figure and set of axes.\n",
    "fig, ax = plt.subplots()\n",
    "\n",
    "# Simple plot.\n",
    "ax.plot(bm, Flip_len, 'x')\n",
    "\n",
    "# Simple plot.\n",
    "ax.plot(bm, m * bm + c, 'r-')\n",
    "\n",
    "# Add the axis Axis labels.\n",
    "ax.set_xlabel('Body Mass (g)', color='blue')\n",
    "ax.set_ylabel('Flipper length (mm)', color='blue')\n",
    "\n",
    "# Add the title name with color.\n",
    "ax.set_title('Palmer Penguins Data Set', color='green')\n",
    "\n",
    "# Add the X limits.\n",
    "ax.set_xlim(2000, 7000)\n",
    "\n",
    "# Add the Y limits.\n",
    "ax.set_ylim(160, 240)"
   ]
  },
  {
   "cell_type": "markdown",
   "metadata": {},
   "source": [
    "### Correlation coefficient.\n",
    "\n",
    "***\n",
    "\n",
    "To get the correlation coefficient between two variables I followed the [Pearson correlation coefficient](https://en.wikipedia.org/wiki/Pearson_correlation_coefficient) (PCC) form. \n",
    "\n",
    "The variables I chose are Flipper length and Body mass. Both variables are quantitative, ara normally distributed, there are no outliers and the relationship is linear."
   ]
  },
  {
   "cell_type": "code",
   "execution_count": 31,
   "metadata": {},
   "outputs": [
    {
     "data": {
      "text/plain": [
       "array([[1.        , 0.87120177],\n",
       "       [0.87120177, 1.        ]])"
      ]
     },
     "execution_count": 31,
     "metadata": {},
     "output_type": "execute_result"
    }
   ],
   "source": [
    "# Get the correlation coefficient between the variables body mass and the flip length.\n",
    "\n",
    "np.corrcoef(bm, Flip_len)"
   ]
  },
  {
   "cell_type": "markdown",
   "metadata": {},
   "source": [
    "The relationship between the correlation coefficient between the body mass and the flip length is 0.87120177, a value close to 1. This suggests a strong positive correlation between both variables, meaning the longer the flipper the heavier the bird."
   ]
  },
  {
   "cell_type": "markdown",
   "metadata": {},
   "source": [
    "## Tables\n",
    "\n",
    "***\n",
    "\n",
    "In this table we can see details about the Bill length and body mass of the different species of penguins.\n",
    "\n",
    "|Species   |Bill length (mm)|Body Mass (g)|\n",
    "|----------|----------------|-------------|\n",
    "|Adelie    |            38.8|         3701|\n",
    "|Chinstrap |            48.8|         3733|\n",
    "|Gentoo    |            47.5|         5061|\n",
    "\n",
    "\n",
    "In this table we can see details abour the number of penguins (female and male) in each island.\n",
    "\n",
    "|Island    |Male Penguins|Female Penguins|\n",
    "|----------|-------------|---------------|\n",
    "|Biscoe    |           83|             80|\n",
    "|Dream     |           62|             61|\n",
    "|Torgersen |           23|             24|\n",
    "\n",
    "\n",
    "\n",
    "\n"
   ]
  },
  {
   "cell_type": "markdown",
   "metadata": {},
   "source": [
    "***\n",
    "\n",
    "### End"
   ]
  }
 ],
 "metadata": {
  "kernelspec": {
   "display_name": "Python 3",
   "language": "python",
   "name": "python3"
  },
  "language_info": {
   "codemirror_mode": {
    "name": "ipython",
    "version": 3
   },
   "file_extension": ".py",
   "mimetype": "text/x-python",
   "name": "python",
   "nbconvert_exporter": "python",
   "pygments_lexer": "ipython3",
   "version": "3.11.5"
  }
 },
 "nbformat": 4,
 "nbformat_minor": 2
}
