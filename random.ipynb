{
 "cells": [
  {
   "cell_type": "markdown",
   "metadata": {},
   "source": [
    "# Random Numbers\n",
    "\n",
    "***"
   ]
  },
  {
   "cell_type": "markdown",
   "metadata": {},
   "source": [
    "## Prequisistes\n",
    "\n",
    "https://numpy.org/doc/stable/reference/random/index.html\n",
    "\n",
    "***"
   ]
  },
  {
   "cell_type": "code",
   "execution_count": 115,
   "metadata": {},
   "outputs": [],
   "source": [
    "# Numerical arrays and random numbers\n",
    "\n",
    "import numpy as np\n",
    "\n",
    "# Plot\n",
    "\n",
    "import matplotlib.pyplot as plt"
   ]
  },
  {
   "cell_type": "markdown",
   "metadata": {},
   "source": [
    "## Generate Random Integers\n",
    "\n",
    "***"
   ]
  },
  {
   "cell_type": "code",
   "execution_count": 116,
   "metadata": {},
   "outputs": [],
   "source": [
    "rng = np.random.default_rng()  \n"
   ]
  },
  {
   "cell_type": "code",
   "execution_count": 117,
   "metadata": {},
   "outputs": [
    {
     "data": {
      "text/plain": [
       "0.9157161860278151"
      ]
     },
     "execution_count": 117,
     "metadata": {},
     "output_type": "execute_result"
    }
   ],
   "source": [
    "# Generate one random float uniformly distributed over the range [0, 1)\n",
    "rng.random()"
   ]
  },
  {
   "cell_type": "code",
   "execution_count": 118,
   "metadata": {},
   "outputs": [
    {
     "data": {
      "text/plain": [
       "array([-0.32042847,  0.68404248, -0.42261911,  0.03190197,  2.71155752,\n",
       "        0.47908035, -0.40348952,  0.98949626, -0.37257782, -0.34863157])"
      ]
     },
     "execution_count": 118,
     "metadata": {},
     "output_type": "execute_result"
    }
   ],
   "source": [
    "# Generate an array of 10 numbers according to a unit Gaussian distribution.\n",
    "rng.standard_normal(10) "
   ]
  },
  {
   "cell_type": "code",
   "execution_count": 119,
   "metadata": {},
   "outputs": [
    {
     "data": {
      "text/plain": [
       "array([1, 6, 8, 5, 6])"
      ]
     },
     "execution_count": 119,
     "metadata": {},
     "output_type": "execute_result"
    }
   ],
   "source": [
    "# Generate an array of 5 integers uniformly over the range [0, 10).\n",
    "# The square bracket in the left means that zero is included,\n",
    "# and the round brcacket on the right means 10 is not included.\n",
    "\n",
    "rng.integers(low=0, high=10, size=5)  "
   ]
  },
  {
   "cell_type": "code",
   "execution_count": 120,
   "metadata": {},
   "outputs": [
    {
     "data": {
      "text/plain": [
       "array([ 4, 10,  6,  4,  5,  6,  7, 10,  5,  4,  9,  4, 10,  7,  5, 10,  7,\n",
       "       10,  5,  3,  9, 10,  9,  2,  1, 10,  7,  5,  9,  7,  8,  1, 10,  0,\n",
       "        3,  0, 10,  8,  5,  1,  0,  4,  3,  3,  3,  4,  8,  2,  1,  4,  6,\n",
       "        2,  7,  9,  8,  5,  2,  7,  8,  0,  3,  8,  2,  1,  0,  9,  7, 10,\n",
       "       10,  9,  9,  8,  0,  6, 10,  7,  4,  3,  0,  0,  3,  0,  9,  8,  7,\n",
       "        5,  6,  9,  2,  8,  7,  3, 10,  8, 10,  9,  8,  8,  6,  8])"
      ]
     },
     "execution_count": 120,
     "metadata": {},
     "output_type": "execute_result"
    }
   ],
   "source": [
    "# Generate 10,000 integers over the  range [0, 10).\n",
    "\n",
    "x = rng.integers(low=0, high=10, size=100, endpoint=True) \n",
    "\n",
    "# With the endpoint=True the 10 will be included in the range\n",
    "\n",
    "# show x.\n",
    "\n",
    "x"
   ]
  },
  {
   "cell_type": "code",
   "execution_count": 121,
   "metadata": {},
   "outputs": [
    {
     "data": {
      "text/plain": [
       "(array([ 0,  1,  2,  3,  4,  5,  6,  7,  8,  9, 10]),\n",
       " array([ 9,  5,  6,  9,  8,  8,  6, 11, 13, 11, 14]))"
      ]
     },
     "execution_count": 121,
     "metadata": {},
     "output_type": "execute_result"
    }
   ],
   "source": [
    "# Get the counts.\n",
    "values, counts = np.unique(x, return_counts=True)\n",
    "\n",
    "# Show. \n",
    "\n",
    "values, counts"
   ]
  },
  {
   "cell_type": "code",
   "execution_count": 122,
   "metadata": {},
   "outputs": [
    {
     "data": {
      "text/plain": [
       "<BarContainer object of 11 artists>"
      ]
     },
     "execution_count": 122,
     "metadata": {},
     "output_type": "execute_result"
    },
    {
     "data": {
      "image/png": "[encoded data removed]",
      "text/plain": [
       "<Figure size 640x480 with 1 Axes>"
      ]
     },
     "metadata": {},
     "output_type": "display_data"
    }
   ],
   "source": [
    "# Plot the bar chart.\n",
    "\n",
    "plt.bar(values, counts, edgecolor='black')"
   ]
  },
  {
   "cell_type": "markdown",
   "metadata": {},
   "source": [
    "## Uniform Disribution\n",
    "\n",
    "***"
   ]
  },
  {
   "cell_type": "code",
   "execution_count": 123,
   "metadata": {},
   "outputs": [
    {
     "data": {
      "text/plain": [
       "array([5.83331434, 9.34236858, 7.93500594, ..., 8.54762531, 8.1092159 ,\n",
       "       0.68536237])"
      ]
     },
     "execution_count": 123,
     "metadata": {},
     "output_type": "execute_result"
    }
   ],
   "source": [
    "# Generate 10,000 floats uniformly distributed over the range [0,10)\n",
    "\n",
    "x = rng.uniform(low=0.0, high=10.0, size=10000) \n",
    "\n",
    "# Show x.\n",
    "\n",
    "x"
   ]
  },
  {
   "cell_type": "code",
   "execution_count": 124,
   "metadata": {},
   "outputs": [
    {
     "data": {
      "text/plain": [
       "(array([1.18307123e-03, 1.27722705e-03, 3.00926938e-03, ...,\n",
       "        9.99722487e+00, 9.99906835e+00, 9.99911328e+00]),\n",
       " array([1, 1, 1, ..., 1, 1, 1]),\n",
       " 10000,\n",
       " 10000)"
      ]
     },
     "execution_count": 124,
     "metadata": {},
     "output_type": "execute_result"
    }
   ],
   "source": [
    "#Round values in x.\n",
    "\n",
    "x_rounded = np.round(x, decimals=1)\n",
    "\n",
    "# Get the counts.\n",
    "values, counts = np.unique(x, return_counts=True)\n",
    "\n",
    "# Show. \n",
    "\n",
    "values, counts, values.size, counts.size"
   ]
  },
  {
   "cell_type": "code",
   "execution_count": null,
   "metadata": {},
   "outputs": [],
   "source": []
  },
  {
   "cell_type": "markdown",
   "metadata": {},
   "source": [
    "***\n",
    "\n",
    "#### End"
   ]
  }
 ],
 "metadata": {
  "kernelspec": {
   "display_name": "base",
   "language": "python",
   "name": "python3"
  },
  "language_info": {
   "codemirror_mode": {
    "name": "ipython",
    "version": 3
   },
   "file_extension": ".py",
   "mimetype": "text/x-python",
   "name": "python",
   "nbconvert_exporter": "python",
   "pygments_lexer": "ipython3",
   "version": "3.11.5"
  }
 },
 "nbformat": 4,
 "nbformat_minor": 2
}
